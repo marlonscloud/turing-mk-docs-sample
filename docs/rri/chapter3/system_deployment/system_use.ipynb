{
 "cells": [
  {
   "cell_type": "markdown",
   "metadata": {},
   "source": [
    "# System Use and Monitoring\n",
    "\n",
    "The Ancient Greek philosopher, Heraclitus believed that all things are in a constant state of change or *flux*—a doctrine made famous by the following statement:\n",
    "\n",
    "\n",
    "> You cannot step twice into the same rivers; for fresh waters are ever flowing in upon you.\n",
    "-- Heraclitus, [Fragment 12](https://en.wikisource.org/wiki/Fragments_of_Heraclitus)\n",
    "\n",
    "\n",
    "Metaphysics aside, it is certainly true that our world is dynamic and that many things change over time.\n",
    "As a result of this, and depending on the context of deployment, the performance of a model that aims to predict, classify, or recommend, is likely to degrade as the populations or objects it represents change or evolve.\n",
    "This process of *model drift* can be said to occur when there is increasing variation between how representative the training dataset was at the time of development and how representative it is at later stages.\n",
    "\n",
    "There are many context- and domain-specific causes of model drift.\n",
    "However, we can consider two main types.\n",
    "\n",
    "On the one hand, drift can occur when the statistical properties of an input variable change (i.e. there is a shift in the underlying data distribution). For example, perhaps house prices start increasing and a model becomes more and more inaccurate at predicting them.[^selection] \n",
    "\n",
    "The following offers a graphical representation of this problem, with a distributional shift between two different points in time (T=1, T=2).\n",
    "\n",
    "[^selection]: Sometimes this type of drift may not be because of any underlying change in the properties of the relevant variable, but because of issues with the original data collection in the first place (e.g. selection bias)."
   ]
  },
  {
   "cell_type": "code",
   "execution_count": 1,
   "metadata": {},
   "outputs": [
    {
     "data": {
      "image/png": "[encoded data removed]",
      "text/plain": [
       "<Figure size 864x360 with 2 Axes>"
      ]
     },
     "metadata": {
      "needs_background": "light"
     },
     "output_type": "display_data"
    }
   ],
   "source": [
    "import numpy as np\n",
    "import matplotlib.pyplot as plt\n",
    "\n",
    "# setting values for x\n",
    "mu1, mu2, sigma = 50,80, 15\n",
    "x1 = mu1+sigma*np.random.randn(10000)\n",
    "x2 = mu2+sigma*np.random.randn(10000)\n",
    "fig, axes = plt.subplots(1,2,figsize=(12,5))\n",
    "\n",
    "# distibution t=1\n",
    "n, bins, patches = axes[0].hist(x1, 50, density=True, facecolor='g', alpha=0.75)\n",
    "axes[0].set_title('Distribution T=1')\n",
    "axes[0].set_xlim(0, 100)\n",
    "axes[0].set_ylim(0, 0.03)\n",
    "axes[0].grid(True)\n",
    "\n",
    "# distribution t=2\n",
    "n, bins, patches = axes[1].hist(x2, 50, density=True, facecolor='b', alpha=0.75)\n",
    "axes[1].set_title('Distribution T=2')\n",
    "axes[1].set_xlim(0, 100)\n",
    "axes[1].set_ylim(0, 0.03)\n",
    "axes[1].grid(True)\n",
    "plt.show()"
   ]
  },
  {
   "cell_type": "markdown",
   "metadata": {},
   "source": [
    "On the other hand, there could be a more nuanced reason related to the conceptual or social meaning of the input variables. \n",
    "An example of this could be a machine learning algorithm used in finance that aims to predict whether someone is likely to default on a loan using variables with social meaning, such as `occupation`.\n",
    "If the model detects a relationship between specific values for `occupation` and the employee's ability to pay back a loan in a timely manner, the system may recommend more loans to people in this occupation. \n",
    "However, if something happens that has a global impact on these jobs (e.g. increased investment in the sector creating a rise in average wages), this association will change. \n",
    "The result is that people who could otherwise afford a loan may still be denied one due to inaccurate models.\n",
    "\n",
    "These two examples are an important reason why ongoing monitoring of a system is so important. \n",
    "How model drift is handled, however, is dealt with in the next section."
   ]
  }
 ],
 "metadata": {
  "kernelspec": {
   "display_name": "Python 3.8.9 ('.venv': venv)",
   "language": "python",
   "name": "python3"
  },
  "language_info": {
   "codemirror_mode": {
    "name": "ipython",
    "version": 3
   },
   "file_extension": ".py",
   "mimetype": "text/x-python",
   "name": "python",
   "nbconvert_exporter": "python",
   "pygments_lexer": "ipython3",
   "version": "3.8.9"
  },
  "orig_nbformat": 4,
  "vscode": {
   "interpreter": {
    "hash": "79d9efd678dfa8cb7e3b646f84185e13641584259bd1060031e4137d41fe7d6b"
   }
  }
 },
 "nbformat": 4,
 "nbformat_minor": 2
}
